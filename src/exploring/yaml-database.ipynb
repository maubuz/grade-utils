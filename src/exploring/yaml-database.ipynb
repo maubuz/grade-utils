{
 "cells": [
  {
   "attachments": {},
   "cell_type": "markdown",
   "metadata": {},
   "source": [
    "# Exploring YAML as a file database\n",
    "\n",
    "## Requirements\n",
    "\n",
    "- [ ] Easily do CRUD on file entries\n",
    "- [ ] Assignment grading must be easily human readable\n",
    "- [ ] Compatible with Pydantic\n",
    "\n",
    "## To Explore & Document\n",
    "\n",
    "- [X] Load and dump yaml file with build-in libraries alone\n",
    "    - There are no built-in packages for manipulating yaml\n",
    "- [ ] Load and dump yaml file with selected 3rd-party libs\n",
    "- [ ] Validate yaml file with built-in libraries alone\n",
    "- [ ] Validate yaml file with Pydantic\n",
    "- [ ] Load and dump yaml file with Pydantic and [pydantic-yaml](https://github.com/NowanIlfideme/pydantic-yaml)\n",
    "\n",
    "## Possible Limitations & Road-blocks\n",
    "\n",
    "- [ ] Slow speed: working with [yaml is slower than json](https://realpython.com/python-yaml/#comparison-with-xml-and-json). Is this an issue to an on-disk file?\n",
    "\n",
    "\n",
    "## Resources\n",
    "\n",
    "- [YAML: The Missing Battery in Python](https://realpython.com/python-yaml/#getting-started-with-yaml-in-python)\n"
   ]
  },
  {
   "attachments": {},
   "cell_type": "markdown",
   "metadata": {},
   "source": [
    "## Documented Explorations"
   ]
  },
  {
   "attachments": {},
   "cell_type": "markdown",
   "metadata": {
    "vscode": {
     "languageId": "plaintext"
    }
   },
   "source": [
    "### Load & Dump w/ 3rd-party libs\n",
    "\n",
    "Selected packages:\n",
    "- [ ] [pyyaml](https://pyyaml.org/wiki/PyYAMLDocumentation)\n",
    " "
   ]
  },
  {
   "attachments": {},
   "cell_type": "markdown",
   "metadata": {},
   "source": [
    "#### PyYaml Testing\n",
    "\n",
    "Installed with:\n",
    "```python\n",
    "pip install pyyaml\n",
    "```\n",
    "\n",
    "##### Notes\n",
    "\n",
    "- From [RealPython's YAML guide](https://realpython.com/python-yaml/#compare-loaders-features):\n",
    "\n",
    "> Suppose you’d like to deserialize a custom class from YAML, make a function call in your Python code, or even execute a shell command while parsing YAML. In that case, your only option is the UnsafeLoader, which accepts a few special library tags. The other loaders either raise an exception or ignore those tags. You’ll learn more about the PyYAML tags now.\n",
    "\n",
    "   - How would \"UnsafeLoader\" impact the loading of comments with potentially executable lines of code?"
   ]
  },
  {
   "cell_type": "code",
   "execution_count": 4,
   "metadata": {},
   "outputs": [
    {
     "data": {
      "text/plain": [
       "True"
      ]
     },
     "execution_count": 4,
     "metadata": {},
     "output_type": "execute_result"
    }
   ],
   "source": [
    "import yaml\n",
    "yaml.__with_libyaml__"
   ]
  },
  {
   "cell_type": "code",
   "execution_count": 5,
   "metadata": {},
   "outputs": [
    {
     "data": {
      "text/plain": [
       "yaml.cyaml.CSafeLoader"
      ]
     },
     "execution_count": 5,
     "metadata": {},
     "output_type": "execute_result"
    }
   ],
   "source": [
    "# Try to load the C implementation for the SafeLoader\n",
    "try:\n",
    "    from yaml import CSafeLoader as SafeLoader\n",
    "except ImportError:\n",
    "    from yaml import SafeLoader\n",
    "\n",
    "SafeLoader"
   ]
  },
  {
   "attachments": {},
   "cell_type": "markdown",
   "metadata": {},
   "source": [
    "Using the more explicit syntax to load SafeLoader in order to use the faster CSafeLoader"
   ]
  },
  {
   "cell_type": "code",
   "execution_count": 12,
   "metadata": {},
   "outputs": [
    {
     "data": {
      "text/html": [
       "<pre style=\"white-space:pre;overflow-x:auto;line-height:normal;font-family:Menlo,'DejaVu Sans Mono',consolas,'Courier New',monospace\"><span style=\"font-weight: bold\">{</span>\n",
       "    <span style=\"color: #008000; text-decoration-color: #008000\">'message'</span>: <span style=\"font-weight: bold\">{</span>\n",
       "        <span style=\"color: #008000; text-decoration-color: #008000\">'date'</span>: <span style=\"color: #800080; text-decoration-color: #800080; font-weight: bold\">datetime.datetime</span><span style=\"font-weight: bold\">(</span><span style=\"color: #008080; text-decoration-color: #008080; font-weight: bold\">2022</span>, <span style=\"color: #008080; text-decoration-color: #008080; font-weight: bold\">1</span>, <span style=\"color: #008080; text-decoration-color: #008080; font-weight: bold\">16</span>, <span style=\"color: #008080; text-decoration-color: #008080; font-weight: bold\">12</span>, <span style=\"color: #008080; text-decoration-color: #008080; font-weight: bold\">46</span>, <span style=\"color: #008080; text-decoration-color: #008080; font-weight: bold\">17</span>, <span style=\"color: #808000; text-decoration-color: #808000\">tzinfo</span>=<span style=\"color: #800080; text-decoration-color: #800080\">datetime</span>.timezone.utc<span style=\"font-weight: bold\">)</span>,\n",
       "        <span style=\"color: #008000; text-decoration-color: #008000\">'from'</span>: <span style=\"color: #008000; text-decoration-color: #008000\">'john.doe@domain.com'</span>,\n",
       "        <span style=\"color: #008000; text-decoration-color: #008000\">'to'</span>: <span style=\"font-weight: bold\">[</span><span style=\"color: #008000; text-decoration-color: #008000\">'bobby@domain.com'</span>, <span style=\"color: #008000; text-decoration-color: #008000\">'molly@domain.com'</span><span style=\"font-weight: bold\">]</span>,\n",
       "        <span style=\"color: #008000; text-decoration-color: #008000\">'cc'</span>: <span style=\"font-weight: bold\">[</span><span style=\"color: #008000; text-decoration-color: #008000\">'jane.doe@domain.com'</span><span style=\"font-weight: bold\">]</span>,\n",
       "        <span style=\"color: #008000; text-decoration-color: #008000\">'subject'</span>: <span style=\"color: #008000; text-decoration-color: #008000\">'Friendly reminder'</span>,\n",
       "        <span style=\"color: #008000; text-decoration-color: #008000\">'content'</span>: <span style=\"color: #008000; text-decoration-color: #008000\">'Dear XYZ,\\n\\nLorem ipsum dolor sit amet...\\n'</span>,\n",
       "        <span style=\"color: #008000; text-decoration-color: #008000\">'attachments'</span>: <span style=\"font-weight: bold\">{</span>\n",
       "            <span style=\"color: #008000; text-decoration-color: #008000\">'image1.gif'</span>: \n",
       "<span style=\"color: #008000; text-decoration-color: #008000\">b'GIF87a\\x08\\x00\\x08\\x00\\xf0\\x00\\x00\\x02\\x06\\x01\\xfa\\xf8\\xf9,\\x00\\x00\\x00\\x00\\x08\\x00\\x08\\x00\\x00\\x02\\x0c\\x8c\\x8fy`</span>\n",
       "<span style=\"color: #008000; text-decoration-color: #008000\">\\xac\\n\\\\C2\\xc6w\\n\\x00;'</span>\n",
       "        <span style=\"font-weight: bold\">}</span>\n",
       "    <span style=\"font-weight: bold\">}</span>\n",
       "<span style=\"font-weight: bold\">}</span>\n",
       "</pre>\n"
      ],
      "text/plain": [
       "\u001b[1m{\u001b[0m\n",
       "    \u001b[32m'message'\u001b[0m: \u001b[1m{\u001b[0m\n",
       "        \u001b[32m'date'\u001b[0m: \u001b[1;35mdatetime.datetime\u001b[0m\u001b[1m(\u001b[0m\u001b[1;36m2022\u001b[0m, \u001b[1;36m1\u001b[0m, \u001b[1;36m16\u001b[0m, \u001b[1;36m12\u001b[0m, \u001b[1;36m46\u001b[0m, \u001b[1;36m17\u001b[0m, \u001b[33mtzinfo\u001b[0m=\u001b[35mdatetime\u001b[0m.timezone.utc\u001b[1m)\u001b[0m,\n",
       "        \u001b[32m'from'\u001b[0m: \u001b[32m'john.doe@domain.com'\u001b[0m,\n",
       "        \u001b[32m'to'\u001b[0m: \u001b[1m[\u001b[0m\u001b[32m'bobby@domain.com'\u001b[0m, \u001b[32m'molly@domain.com'\u001b[0m\u001b[1m]\u001b[0m,\n",
       "        \u001b[32m'cc'\u001b[0m: \u001b[1m[\u001b[0m\u001b[32m'jane.doe@domain.com'\u001b[0m\u001b[1m]\u001b[0m,\n",
       "        \u001b[32m'subject'\u001b[0m: \u001b[32m'Friendly reminder'\u001b[0m,\n",
       "        \u001b[32m'content'\u001b[0m: \u001b[32m'Dear XYZ,\\n\\nLorem ipsum dolor sit amet...\\n'\u001b[0m,\n",
       "        \u001b[32m'attachments'\u001b[0m: \u001b[1m{\u001b[0m\n",
       "            \u001b[32m'image1.gif'\u001b[0m: \n",
       "\u001b[32mb'GIF87a\\x08\\x00\\x08\\x00\\xf0\\x00\\x00\\x02\\x06\\x01\\xfa\\xf8\\xf9,\\x00\\x00\\x00\\x00\\x08\\x00\\x08\\x00\\x00\\x02\\x0c\\x8c\\x8fy`\u001b[0m\n",
       "\u001b[32m\\xac\\n\\\\C2\\xc6w\\n\\x00;'\u001b[0m\n",
       "        \u001b[1m}\u001b[0m\n",
       "    \u001b[1m}\u001b[0m\n",
       "\u001b[1m}\u001b[0m\n"
      ]
     },
     "metadata": {},
     "output_type": "display_data"
    }
   ],
   "source": [
    "from rich import print\n",
    "from yaml import load\n",
    "\n",
    "with open(\"input-yaml.yaml\") as file:\n",
    "\n",
    "    content = yaml.load(file, SafeLoader)\n",
    "    print(content)\n",
    "\n",
    "    with open(\"output-yaml.yaml\", \"w\") as output:\n",
    "        output.write(yaml.safe_dump(content))\n"
   ]
  },
  {
   "cell_type": "code",
   "execution_count": null,
   "metadata": {},
   "outputs": [],
   "source": []
  }
 ],
 "metadata": {
  "kernelspec": {
   "display_name": ".venv",
   "language": "python",
   "name": "python3"
  },
  "language_info": {
   "codemirror_mode": {
    "name": "ipython",
    "version": 3
   },
   "file_extension": ".py",
   "mimetype": "text/x-python",
   "name": "python",
   "nbconvert_exporter": "python",
   "pygments_lexer": "ipython3",
   "version": "3.11.3"
  },
  "orig_nbformat": 4
 },
 "nbformat": 4,
 "nbformat_minor": 2
}
